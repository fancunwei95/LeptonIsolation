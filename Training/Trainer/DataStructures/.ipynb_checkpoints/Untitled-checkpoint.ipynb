{
 "cells": [
  {
   "cell_type": "code",
   "execution_count": 5,
   "metadata": {},
   "outputs": [],
   "source": [
    "from ROOT import TFile\n",
    "import pandas as pd\n",
    "\n",
    "\n",
    "options={}\n",
    "options[\"input_data\"] = \"/public/data/RNN/Samples/InclusivePt/small_data.root\"\n",
    "#assert path.exists(options[\"input_data\"]) is True, \"invalid input_data path\"\n",
    "options[\"run_location\"] = \"/public/data/RNN/runs\"\n",
    "options[\"run_label\"] = \"anil_test\"\n",
    "options[\"tree_name\"] = \"NormalizedTree\"\n",
    "options[\"output_folder\"] = \"./Outputs/\"\n",
    "options[\"model_path\"] = options[\"output_folder\"] + \"saved_model.pt\"\n",
    "options[\"architecture_type\"] = \"GRU\"  # RNN, LSTM, GRU, DeepSets, SetTransformer\n",
    "options[\"dropout\"] = 0.3\n",
    "options[\n",
    "    \"track_ordering\"\n",
    "] = \"low-to-high-pt\"  # None, \"high-to-low-pt\", \"low-to-high-pt\", \"near-to-far\", \"far-to-near\"\n",
    "    # options[\"additional_appended_features\"] = [\"baseline_topoetcone20\", \"baseline_topoetcone30\", \"baseline_topoetcone40\", \"baseline_eflowcone20\", \"baseline_ptcone20\", \"baseline_ptcone30\", \"baseline_ptcone40\", \"baseline_ptvarcone20\", \"baseline_ptvarcone30\", \"baseline_ptvarcone40\"]\n",
    "options[\"additional_appended_features\"] = []\n",
    "options[\"lr\"] = 0.001\n",
    "options[\"ignore_features\"] = [\n",
    "        \"baseline_topoetcone20\",\n",
    "        \"baseline_topoetcone30\",\n",
    "        \"baseline_topoetcone40\",\n",
    "        \"baseline_eflowcone20\",\n",
    "        \"baseline_ptcone20\",\n",
    "        \"baseline_ptcone30\",\n",
    "        \"baseline_ptcone40\",\n",
    "        \"baseline_ptvarcone20\",\n",
    "        \"baseline_ptvarcone30\",\n",
    "        \"baseline_ptvarcone40\",\n",
    "        \"baseline_eflowcone20_over_pt\",\n",
    "        \"trk_vtx_type\",\n",
    "]\n",
    "options[\"training_split\"] = 0.7\n",
    "options[\"batch_size\"] = 32\n",
    "options[\"n_epochs\"] = 10\n",
    "options[\"n_layers\"] = 3\n",
    "options[\"hidden_neurons\"] = 256\n",
    "options[\"intrinsic_dimensions\"] = 1024  # only matters for deep sets\n",
    "options[\"output_neurons\"] = 2\n",
    "options[\"save_model\"] = True\n",
    "options[\"model_save_path\"] = options[\"output_folder\"] + \"test_gru_model.pth\"\n",
    "options[\"train_BDT\"] = True\n"
   ]
  },
  {
   "cell_type": "code",
   "execution_count": 8,
   "metadata": {},
   "outputs": [],
   "source": [
    "data_file = TFile(options[\"input_data\"])\n",
    "data_tree = getattr(data_file,options[\"tree_name\"])\n",
    "options[\"branches\"] = [i.GetName() for i in data_tree.GetListOfBranches() if i.GetName() not in options[\"ignore_features\"]]"
   ]
  },
  {
   "cell_type": "code",
   "execution_count": 9,
   "metadata": {},
   "outputs": [
    {
     "data": {
      "text/plain": [
       "['event_n',\n",
       " 'pdgID',\n",
       " 'truth_type',\n",
       " 'baseline_ptcone20_over_pt',\n",
       " 'baseline_ptcone30_over_pt',\n",
       " 'baseline_ptcone40_over_pt',\n",
       " 'baseline_ptvarcone20_over_pt',\n",
       " 'baseline_ptvarcone30_over_pt',\n",
       " 'baseline_ptvarcone40_over_pt',\n",
       " 'baseline_topoetcone20_over_pt',\n",
       " 'baseline_topoetcone30_over_pt',\n",
       " 'baseline_topoetcone40_over_pt',\n",
       " 'baseline_PLT',\n",
       " 'lep_pT',\n",
       " 'ROC_slicing_lep_pT',\n",
       " 'lep_eta',\n",
       " 'lep_theta',\n",
       " 'lep_phi',\n",
       " 'lep_d0',\n",
       " 'lep_d0_over_sigd0',\n",
       " 'lep_z0',\n",
       " 'lep_dz0',\n",
       " 'lep_has_associated_jet',\n",
       " 'lep_DL1r',\n",
       " 'trk_lep_dR',\n",
       " 'trk_pT',\n",
       " 'trk_eta',\n",
       " 'trk_phi',\n",
       " 'trk_d0',\n",
       " 'trk_z0',\n",
       " 'trk_lep_dEta',\n",
       " 'trk_lep_dPhi',\n",
       " 'trk_lep_dD0',\n",
       " 'trk_lep_dZ0',\n",
       " 'trk_chi2',\n",
       " 'trk_charge',\n",
       " 'trk_nIBLHits',\n",
       " 'trk_nPixHits',\n",
       " 'trk_nPixHoles',\n",
       " 'trk_nPixOutliers',\n",
       " 'trk_nSCTHits',\n",
       " 'trk_nSCTHoles',\n",
       " 'trk_nTRTHits',\n",
       " 'trk_vtx_x',\n",
       " 'trk_vtx_y',\n",
       " 'trk_vtx_z',\n",
       " 'calo_cluster_lep_dR',\n",
       " 'calo_cluster_e',\n",
       " 'calo_cluster_pT',\n",
       " 'calo_cluster_eta',\n",
       " 'calo_cluster_phi',\n",
       " 'calo_cluster_lep_dEta',\n",
       " 'calo_cluster_lep_dPhi']"
      ]
     },
     "execution_count": 9,
     "metadata": {},
     "output_type": "execute_result"
    }
   ],
   "source": [
    "options[\"branches\"]"
   ]
  },
  {
   "cell_type": "code",
   "execution_count": null,
   "metadata": {},
   "outputs": [],
   "source": [
    "options[\"lep_features\"] =  options[\"baseline_features\"] = [\n",
    "            i for i in options[\"branches\"] if i.startswith(\"baseline_\")\n",
    "        ]\n",
    "options[\"lep_features\"] = [\n",
    "            i for i in options[\"branches\"] if i.startswith(\"lep_options[\"lep_features\"] += options[\"additional_appended_features\"]\n",
    "options[\"trk_features\"] = [\n",
    "     i for i in options[\"branches\"] if i.startswith(\"trk_\")\n",
    "]\n",
    "        options[\"calo_features\"] = [\n",
    "            i for i in options[\"branches\"] if i.startswith(\"calo_cluster_]"
   ]
  }
 ],
 "metadata": {
  "kernelspec": {
   "display_name": "Python 3",
   "language": "python",
   "name": "python3"
  },
  "language_info": {
   "codemirror_mode": {
    "name": "ipython",
    "version": 3
   },
   "file_extension": ".py",
   "mimetype": "text/x-python",
   "name": "python",
   "nbconvert_exporter": "python",
   "pygments_lexer": "ipython3",
   "version": "3.7.1"
  }
 },
 "nbformat": 4,
 "nbformat_minor": 2
}
